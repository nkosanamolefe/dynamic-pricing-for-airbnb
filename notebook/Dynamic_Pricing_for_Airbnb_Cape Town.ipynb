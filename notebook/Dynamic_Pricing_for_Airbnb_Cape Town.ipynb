{
 "cells": [
  {
   "cell_type": "markdown",
   "id": "b52602b3",
   "metadata": {},
   "source": [
    "# Dynamic Pricing for Airbnb – Cape Town\n",
    "This project models optimal nightly rates for Airbnb listings using historical data, demand/supply signals, and predictive modeling."
   ]
  },
  {
   "cell_type": "markdown",
   "id": "aa7e37e4",
   "metadata": {},
   "source": [
    "## Data Loading"
   ]
  },
  {
   "cell_type": "code",
   "execution_count": null,
   "id": "d8ddeb52",
   "metadata": {},
   "outputs": [],
   "source": [
    "import pandas as pd\n",
    "\n",
    "# Load datasets\n",
    "listings = pd.read_csv(\"listings.csv.gz\")\n",
    "calendar = pd.read_csv(\"calendar.csv.gz\")\n",
    "reviews = pd.read_csv(\"reviews.csv.gz\")\n",
    "neighbourhoods = pd.read_csv(\"neighbourhoods.csv\")"
   ]
  },
  {
   "cell_type": "markdown",
   "id": "6e726112",
   "metadata": {},
   "source": [
    "## Data Cleaning"
   ]
  },
  {
   "cell_type": "code",
   "execution_count": null,
   "id": "34af1263",
   "metadata": {},
   "outputs": [],
   "source": [
    "# Drop irrelevant columns, handle missing values\n",
    "listings_clean = listings.dropna(subset=[\"price\", \"room_type\", \"neighbourhood\"])\n",
    "calendar[\"date\"] = pd.to_datetime(calendar[\"date\"])\n",
    "calendar[\"price\"] = calendar[\"price\"].replace('[\\$,]', '', regex=True).astype(float)"
   ]
  },
  {
   "cell_type": "markdown",
   "id": "ad8e4bf1",
   "metadata": {},
   "source": [
    "## Exploratory Data Analysis (EDA)"
   ]
  },
  {
   "cell_type": "code",
   "execution_count": null,
   "id": "564b911a",
   "metadata": {},
   "outputs": [],
   "source": [
    "import seaborn as sns\n",
    "import matplotlib.pyplot as plt\n",
    "\n",
    "# Price distribution\n",
    "sns.histplot(listings_clean[\"price\"], bins=50)\n",
    "plt.title(\"Price Distribution\")\n",
    "\n",
    "# Occupancy trends\n",
    "calendar[\"available\"] = calendar[\"available\"].map({\"t\": 1, \"f\": 0})\n",
    "occupancy_rate = calendar.groupby(\"date\")[\"available\"].mean()\n",
    "occupancy_rate.plot(title=\"Daily Occupancy Rate\")\n"
   ]
  },
  {
   "cell_type": "markdown",
   "id": "014ca874",
   "metadata": {},
   "source": [
    "## Feature Engineering"
   ]
  },
  {
   "cell_type": "code",
   "execution_count": null,
   "id": "66558d9a",
   "metadata": {},
   "outputs": [],
   "source": [
    "# Booking lead time\n",
    "calendar[\"lead_time\"] = (calendar[\"date\"] - pd.to_datetime(\"today\")).dt.days\n",
    "\n",
    "# Host type\n",
    "listings_clean[\"multi_listing_host\"] = listings_clean[\"host_listings_count\"] > 1\n",
    "\n",
    "# Seasonality\n",
    "calendar[\"month\"] = calendar[\"date\"].dt.month"
   ]
  },
  {
   "cell_type": "markdown",
   "id": "d8de36e7",
   "metadata": {},
   "source": [
    "## Modeling"
   ]
  },
  {
   "cell_type": "code",
   "execution_count": null,
   "id": "07770882",
   "metadata": {},
   "outputs": [],
   "source": [
    "from sklearn.ensemble import RandomForestRegressor\n",
    "from sklearn.model_selection import train_test_split\n",
    "\n",
    "# Merge calendar with listings\n",
    "merged = calendar.merge(listings_clean, on=\"listing_id\")\n",
    "\n",
    "# Select features\n",
    "features = merged[[\"lead_time\", \"month\", \"room_type\", \"neighbourhood_cleansed\", \"multi_listing_host\"]]\n",
    "features = pd.get_dummies(features)\n",
    "target = merged[\"price\"]\n",
    "\n",
    "# Train model\n",
    "X_train, X_test, y_train, y_test = train_test_split(features, target, test_size=0.2)\n",
    "model = RandomForestRegressor()\n",
    "model.fit(X_train, y_train)"
   ]
  },
  {
   "cell_type": "markdown",
   "id": "c8d13a83",
   "metadata": {},
   "source": [
    "## Simulation & Adjustment"
   ]
  },
  {
   "cell_type": "code",
   "execution_count": null,
   "id": "496cdaec",
   "metadata": {},
   "outputs": [],
   "source": [
    "# Apply demand/supply multipliers\n",
    "def adjust_price(base, demand_mult, supply_mult, d_thresh=0.8, s_thresh=0.9):\n",
    "    return base * max(demand_mult, d_thresh) * max(supply_mult, s_thresh)\n",
    "\n",
    "# Example simulation\n",
    "adjusted = adjust_price(base=1200, demand_mult=1.2, supply_mult=0.85)"
   ]
  },
  {
   "cell_type": "markdown",
   "id": "902b6bff",
   "metadata": {},
   "source": [
    "## Visualization"
   ]
  },
  {
   "cell_type": "code",
   "execution_count": null,
   "id": "f95f8d75",
   "metadata": {},
   "outputs": [],
   "source": [
    "# Compare original vs. adjusted prices\n",
    "plt.plot([1200, adjusted], marker='o')\n",
    "plt.xticks([0, 1], [\"Original\", \"Adjusted\"])\n",
    "plt.title(\"Price Adjustment Simulation\")"
   ]
  },
  {
   "cell_type": "markdown",
   "id": "c38e0089",
   "metadata": {},
   "source": [
    "## Conclusion & Next Steps"
   ]
  },
  {
   "cell_type": "code",
   "execution_count": null,
   "id": "6956c5d1",
   "metadata": {},
   "outputs": [],
   "source": [
    "# Summary\n",
    "- Modeled dynamic pricing using historical and contextual features\n",
    "- Simulated price adjustments based on demand/supply\n",
    "- Future work: integrate review sentiment, event calendars, and real-time APIs"
   ]
  }
 ],
 "metadata": {
  "language_info": {
   "name": "python"
  }
 },
 "nbformat": 4,
 "nbformat_minor": 5
}
